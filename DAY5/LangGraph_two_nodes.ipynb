{
 "cells": [
  {
   "cell_type": "code",
   "execution_count": 3,
   "id": "87f33870-a34e-4f46-8a0d-88b5f703401f",
   "metadata": {},
   "outputs": [
    {
     "name": "stdin",
     "output_type": "stream",
     "text": [
      "Enter a topic to summarize:  what is model context protocol\n"
     ]
    },
    {
     "name": "stdout",
     "output_type": "stream",
     "text": [
      "\n",
      " AI Summary:\n",
      " The Model Context Protocol (MCP) is a mechanism that ensures communication between large language models (LLMs) and their users, allowing for the efficient exchange of information like prompt history and context during interaction. It acts as a consistent interface, facilitating clear and organized data flow for improved accuracy, understanding, and ultimately, better AI interactions. \n",
      "\n"
     ]
    },
    {
     "data": {
      "text/plain": [
       "{'messages': ['Summarize what is model context protocol in one short paragraph.']}"
      ]
     },
     "execution_count": 3,
     "metadata": {},
     "output_type": "execute_result"
    }
   ],
   "source": [
    "from langgraph.graph import StateGraph, END\n",
    "from langchain_community.llms import Ollama\n",
    "\n",
    "# Define a simple state schema\n",
    "class State(dict):\n",
    "    messages: list\n",
    "\n",
    "# Create Ollama LLM\n",
    "llm = Ollama(model=\"gemma2:2b\")\n",
    "\n",
    "# Define two nodes\n",
    "def ask_topic(state: State):\n",
    "    \"\"\"Ask the user for a topic\"\"\"\n",
    "    topic = input(\"Enter a topic to summarize: \")\n",
    "    state[\"messages\"] = [f\"Summarize {topic} in one short paragraph.\"]\n",
    "    return state\n",
    "\n",
    "def summarize(state: State):\n",
    "    \"\"\"Generate summary using Ollama\"\"\"\n",
    "    prompt = state[\"messages\"][0]\n",
    "    response = llm.invoke(prompt)\n",
    "    print(\"\\n AI Summary:\\n\", response)\n",
    "    return state\n",
    "\n",
    "# Build LangGraph\n",
    "graph = StateGraph(State)\n",
    "graph.add_node(\"ask_topic\", ask_topic)\n",
    "graph.add_node(\"summarize\", summarize)\n",
    "\n",
    "# Connect nodes\n",
    "graph.add_edge(\"ask_topic\", \"summarize\")\n",
    "graph.add_edge(\"summarize\", END)\n",
    "\n",
    "# Set entry point\n",
    "graph.set_entry_point(\"ask_topic\")\n",
    "\n",
    "# Compile and run\n",
    "app = graph.compile()\n",
    "app.invoke({})\n"
   ]
  },
  {
   "cell_type": "code",
   "execution_count": 4,
   "id": "9ee338e8-6611-47e3-8d80-0da9c057ae64",
   "metadata": {
    "scrolled": true
   },
   "outputs": [
    {
     "data": {
      "image/png": "[encoded data removed]",
      "text/plain": [
       "<IPython.core.display.Image object>"
      ]
     },
     "metadata": {},
     "output_type": "display_data"
    }
   ],
   "source": [
    "from IPython.display import Image, display\n",
    "try:\n",
    "    display(Image(app.get_graph().draw_mermaid_png()))\n",
    "except Exception:\n",
    "    pass"
   ]
  },
  {
   "cell_type": "code",
   "execution_count": null,
   "id": "319fce0e-7c3c-4d2a-8d3d-b5742a0f0a1c",
   "metadata": {},
   "outputs": [],
   "source": []
  }
 ],
 "metadata": {
  "kernelspec": {
   "display_name": "Python [conda env:base] *",
   "language": "python",
   "name": "conda-base-py"
  },
  "language_info": {
   "codemirror_mode": {
    "name": "ipython",
    "version": 3
   },
   "file_extension": ".py",
   "mimetype": "text/x-python",
   "name": "python",
   "nbconvert_exporter": "python",
   "pygments_lexer": "ipython3",
   "version": "3.13.5"
  }
 },
 "nbformat": 4,
 "nbformat_minor": 5
}
