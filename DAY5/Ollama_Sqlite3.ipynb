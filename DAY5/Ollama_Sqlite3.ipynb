{
 "cells": [
  {
   "cell_type": "code",
   "execution_count": 1,
   "id": "2cb47730-2612-4806-831d-9ad9566ee64c",
   "metadata": {},
   "outputs": [
    {
     "name": "stdout",
     "output_type": "stream",
     "text": [
      "Response: role='assistant' content='The first letter is alpha.\\n\\nThe context provides multiple instances of the letter \"alpha\", which are all consecutive and share the same first letter. This suggests that the response should also be \"alpha\".' thinking=None images=None tool_calls=None\n"
     ]
    }
   ],
   "source": [
    "import sqlite3\n",
    "import ollama\n",
    "\n",
    "# 1. Set up SQLite database and store sample documents\n",
    "def setup_database():\n",
    "    conn = sqlite3.connect('myfile.db')\n",
    "    cursor = conn.cursor()\n",
    "    cursor.execute('''CREATE TABLE IF NOT EXISTS documents (\n",
    "                        id INTEGER PRIMARY KEY,\n",
    "                        content TEXT\n",
    "                      )''')\n",
    "    sample_documents = [\n",
    "        (\"The first letter is alpha.\",),\n",
    "        (\"The second letter is beta.\",)\n",
    "    ]\n",
    "    cursor.executemany(\"INSERT INTO documents (content) VALUES (?)\", sample_documents)\n",
    "    conn.commit()\n",
    "    conn.close()\n",
    "\n",
    "setup_database()\n",
    "\n",
    "# 2. Function to retrieve documents based on query\n",
    "def retrieve_documents(query):\n",
    "    conn = sqlite3.connect('myfile.db')\n",
    "    cursor = conn.cursor()\n",
    "    cursor.execute(\"SELECT content FROM documents WHERE content LIKE ?\", ('%' + query + '%',))\n",
    "    results = cursor.fetchall()\n",
    "    conn.close()\n",
    "    return [result[0] for result in results]\n",
    "\n",
    "# 3. Function to generate a response using Ollama\n",
    "def generate_response(query, documents):\n",
    "    context = \"\\n\".join(documents)\n",
    "    prompt = f\"Query: {query}\\n\\nContext:\\n{context}\\n\\nResponse:\"\n",
    "    response = ollama.chat(model=\"gemma2:2b\", messages=[{\"role\": \"user\", \"content\": prompt}])\n",
    "    return response['message']\n",
    "\n",
    "# 4. Complete flow: Query input, document retrieval, and response generation\n",
    "def handle_query(query):\n",
    "    retrieved_docs = retrieve_documents(query)\n",
    "    if retrieved_docs:\n",
    "        response = generate_response(query, retrieved_docs)\n",
    "        return response\n",
    "    else:\n",
    "        return \"No relevant documents found.\"\n",
    "\n",
    "# Test the whole process with a sample query\n",
    "query = \"first\"\n",
    "response = handle_query(query)\n",
    "print(f\"Response: {response}\")"
   ]
  },
  {
   "cell_type": "code",
   "execution_count": 2,
   "id": "3a9eec2b-92de-4a7e-86ef-93f931add9f7",
   "metadata": {},
   "outputs": [
    {
     "name": "stdout",
     "output_type": "stream",
     "text": [
      "Response: No relevant documents found.\n"
     ]
    }
   ],
   "source": [
    "import sqlite3\n",
    "import ollama\n",
    "\n",
    "# 1. Set up SQLite database and store sample documents\n",
    "def setup_database():\n",
    "    conn = sqlite3.connect('myfile.db')\n",
    "    cursor = conn.cursor()\n",
    "    cursor.execute('''CREATE TABLE IF NOT EXISTS documents (\n",
    "                        id INTEGER PRIMARY KEY,\n",
    "                        content TEXT\n",
    "                      )''')\n",
    "    sample_documents = [\n",
    "        (\"The first letter is alpha.\",),\n",
    "        (\"The second letter is beta.\",)\n",
    "    ]\n",
    "    cursor.executemany(\"INSERT INTO documents (content) VALUES (?)\", sample_documents)\n",
    "    conn.commit()\n",
    "    conn.close()\n",
    "\n",
    "setup_database()\n",
    "\n",
    "# 2. Function to retrieve documents based on query\n",
    "def retrieve_documents(query):\n",
    "    conn = sqlite3.connect('myfile.db')\n",
    "    cursor = conn.cursor()\n",
    "    cursor.execute(\"SELECT content FROM documents WHERE content LIKE ?\", ('%' + query + '%',))\n",
    "    results = cursor.fetchall()\n",
    "    conn.close()\n",
    "    return [result[0] for result in results]\n",
    "\n",
    "# 3. Function to generate a response using Ollama\n",
    "def generate_response(query, documents):\n",
    "    context = \"\\n\".join(documents)\n",
    "    prompt = f\"Query: {query}\\n\\nContext:\\n{context}\\n\\nResponse:\"\n",
    "    response = ollama.chat(model=\"gemma:2b\", messages=[{\"role\": \"user\", \"content\": prompt}])\n",
    "    return response['message']\n",
    "\n",
    "# 4. Complete flow: Query input, document retrieval, and response generation\n",
    "def handle_query(query):\n",
    "    retrieved_docs = retrieve_documents(query)\n",
    "    if retrieved_docs:\n",
    "        response = generate_response(query, retrieved_docs)\n",
    "        return response\n",
    "    else:\n",
    "        return \"No relevant documents found.\"\n",
    "\n",
    "# Test the whole process with a sample query\n",
    "query = \"three\"\n",
    "response = handle_query(query)\n",
    "print(f\"Response: {response}\")"
   ]
  }
 ],
 "metadata": {
  "kernelspec": {
   "display_name": "Python [conda env:base] *",
   "language": "python",
   "name": "conda-base-py"
  },
  "language_info": {
   "codemirror_mode": {
    "name": "ipython",
    "version": 3
   },
   "file_extension": ".py",
   "mimetype": "text/x-python",
   "name": "python",
   "nbconvert_exporter": "python",
   "pygments_lexer": "ipython3",
   "version": "3.13.5"
  }
 },
 "nbformat": 4,
 "nbformat_minor": 5
}
