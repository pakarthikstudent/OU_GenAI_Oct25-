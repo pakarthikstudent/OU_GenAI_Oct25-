{
 "cells": [
  {
   "cell_type": "code",
   "execution_count": 1,
   "id": "ee62edd8-7498-47d8-9efe-23cd1347c3e7",
   "metadata": {},
   "outputs": [],
   "source": [
    "from langchain_community.llms import Ollama\n",
    "from langchain_community.document_loaders import TextLoader\n",
    "from langchain_text_splitters import CharacterTextSplitter\n",
    "from langchain_community.vectorstores import FAISS\n",
    "from langchain.embeddings import HuggingFaceEmbeddings\n",
    "\n",
    "from langchain_groq import ChatGroq\n",
    "from langchain.chains import RetrievalQA"
   ]
  },
  {
   "cell_type": "code",
   "execution_count": 2,
   "id": "1daabcaa-7282-408f-aded-69cffec81653",
   "metadata": {},
   "outputs": [
    {
     "data": {
      "text/plain": [
       "True"
      ]
     },
     "execution_count": 2,
     "metadata": {},
     "output_type": "execute_result"
    }
   ],
   "source": [
    "import os\n",
    "from dotenv import load_dotenv\n",
    "load_dotenv()"
   ]
  },
  {
   "cell_type": "code",
   "execution_count": 3,
   "id": "37a38d95-612e-48a5-bbba-fb27d29a5686",
   "metadata": {},
   "outputs": [],
   "source": [
    "llm_obj = ChatGroq(model=\"groq/compound-mini\",api_key=os.getenv(\"GROQ_API_KEY\"))"
   ]
  },
  {
   "cell_type": "raw",
   "id": "8128e89d-af6f-4f30-9585-59c9d84dcb83",
   "metadata": {},
   "source": [
    "Flask / FastApi = WebFramework = html;css;js;templates  - MVT \n",
    "Vs\n",
    "Streamlit - python framework - build web apps for datascience,ML,DataFrame,llm\n",
    "---------\n",
    "      |-> no need for html,css,js,template\n",
    "\n",
    "pip install streamlit\n",
    "|\n",
    "file: p1.py\n",
    "===========\n",
    "|\n",
    "python -m streamlit run p1.py (or) streamlit run p1.py\n",
    "In jupyter cell => ! streamlit run p1.py\n",
    "\n",
    "import streamlit\n",
    "streamlit.function() =>UI\n",
    "\n",
    "import streamlit as st\n",
    "st.title('Welcome to streamlit app')"
   ]
  },
  {
   "cell_type": "code",
   "execution_count": 8,
   "id": "70ccf404-1880-49c8-acf3-7223725ee906",
   "metadata": {},
   "outputs": [
    {
     "data": {
      "text/plain": [
       "'C:\\\\Users\\\\karth'"
      ]
     },
     "execution_count": 8,
     "metadata": {},
     "output_type": "execute_result"
    }
   ],
   "source": [
    "import os\n",
    "os.getcwd()"
   ]
  },
  {
   "cell_type": "code",
   "execution_count": 9,
   "id": "e3eb847f-41ba-462e-abd1-f4d4422b9964",
   "metadata": {},
   "outputs": [
    {
     "data": {
      "text/plain": [
       "'C:\\\\Users\\\\karth\\\\llmapps'"
      ]
     },
     "execution_count": 9,
     "metadata": {},
     "output_type": "execute_result"
    }
   ],
   "source": [
    "os.chdir(\"C://Users//karth//llmapps//\")\n",
    "os.getcwd()"
   ]
  },
  {
   "cell_type": "code",
   "execution_count": 10,
   "id": "1b7c68bd-165c-4f76-8378-cb1fa6c9298d",
   "metadata": {},
   "outputs": [
    {
     "name": "stdout",
     "output_type": "stream",
     "text": [
      "^C\n"
     ]
    }
   ],
   "source": [
    "! streamlit run p1.py"
   ]
  },
  {
   "cell_type": "code",
   "execution_count": null,
   "id": "a4410308-5782-4b6f-b71f-bde731218dc4",
   "metadata": {},
   "outputs": [],
   "source": [
    "From commandline / terminal \n",
    "C:\\Users\\karth\\llmapps>python -m streamlit run p1.py\n"
   ]
  },
  {
   "cell_type": "code",
   "execution_count": null,
   "id": "527436c3-389a-474d-a6c2-2c19679d3177",
   "metadata": {},
   "outputs": [],
   "source": [
    "Randomforest\n",
    "|\n",
    "student --- teacher => computer       ----\n",
    "        --- friend1  => Physics \n",
    "        --- friend2  => Maths\n",
    "        --- uncle  ==> computer       ----   //computer\n",
    "        --- teacher ==> Civil\n",
    "\n"
   ]
  },
  {
   "cell_type": "code",
   "execution_count": 12,
   "id": "f6036d5f-8777-4327-9fef-c2c3227d813d",
   "metadata": {},
   "outputs": [],
   "source": [
    "from sklearn.datasets import load_iris\n",
    "from sklearn.ensemble import RandomForestClassifier"
   ]
  },
  {
   "cell_type": "code",
   "execution_count": 18,
   "id": "751633e6-4a00-4860-bf67-84950659efe2",
   "metadata": {},
   "outputs": [
    {
     "data": {
      "text/html": [
       "<style>#sk-container-id-1 {\n",
       "  /* Definition of color scheme common for light and dark mode */\n",
       "  --sklearn-color-text: #000;\n",
       "  --sklearn-color-text-muted: #666;\n",
       "  --sklearn-color-line: gray;\n",
       "  /* Definition of color scheme for unfitted estimators */\n",
       "  --sklearn-color-unfitted-level-0: #fff5e6;\n",
       "  --sklearn-color-unfitted-level-1: #f6e4d2;\n",
       "  --sklearn-color-unfitted-level-2: #ffe0b3;\n",
       "  --sklearn-color-unfitted-level-3: chocolate;\n",
       "  /* Definition of color scheme for fitted estimators */\n",
       "  --sklearn-color-fitted-level-0: #f0f8ff;\n",
       "  --sklearn-color-fitted-level-1: #d4ebff;\n",
       "  --sklearn-color-fitted-level-2: #b3dbfd;\n",
       "  --sklearn-color-fitted-level-3: cornflowerblue;\n",
       "\n",
       "  /* Specific color for light theme */\n",
       "  --sklearn-color-text-on-default-background: var(--sg-text-color, var(--theme-code-foreground, var(--jp-content-font-color1, black)));\n",
       "  --sklearn-color-background: var(--sg-background-color, var(--theme-background, var(--jp-layout-color0, white)));\n",
       "  --sklearn-color-border-box: var(--sg-text-color, var(--theme-code-foreground, var(--jp-content-font-color1, black)));\n",
       "  --sklearn-color-icon: #696969;\n",
       "\n",
       "  @media (prefers-color-scheme: dark) {\n",
       "    /* Redefinition of color scheme for dark theme */\n",
       "    --sklearn-color-text-on-default-background: var(--sg-text-color, var(--theme-code-foreground, var(--jp-content-font-color1, white)));\n",
       "    --sklearn-color-background: var(--sg-background-color, var(--theme-background, var(--jp-layout-color0, #111)));\n",
       "    --sklearn-color-border-box: var(--sg-text-color, var(--theme-code-foreground, var(--jp-content-font-color1, white)));\n",
       "    --sklearn-color-icon: #878787;\n",
       "  }\n",
       "}\n",
       "\n",
       "#sk-container-id-1 {\n",
       "  color: var(--sklearn-color-text);\n",
       "}\n",
       "\n",
       "#sk-container-id-1 pre {\n",
       "  padding: 0;\n",
       "}\n",
       "\n",
       "#sk-container-id-1 input.sk-hidden--visually {\n",
       "  border: 0;\n",
       "  clip: rect(1px 1px 1px 1px);\n",
       "  clip: rect(1px, 1px, 1px, 1px);\n",
       "  height: 1px;\n",
       "  margin: -1px;\n",
       "  overflow: hidden;\n",
       "  padding: 0;\n",
       "  position: absolute;\n",
       "  width: 1px;\n",
       "}\n",
       "\n",
       "#sk-container-id-1 div.sk-dashed-wrapped {\n",
       "  border: 1px dashed var(--sklearn-color-line);\n",
       "  margin: 0 0.4em 0.5em 0.4em;\n",
       "  box-sizing: border-box;\n",
       "  padding-bottom: 0.4em;\n",
       "  background-color: var(--sklearn-color-background);\n",
       "}\n",
       "\n",
       "#sk-container-id-1 div.sk-container {\n",
       "  /* jupyter's `normalize.less` sets `[hidden] { display: none; }`\n",
       "     but bootstrap.min.css set `[hidden] { display: none !important; }`\n",
       "     so we also need the `!important` here to be able to override the\n",
       "     default hidden behavior on the sphinx rendered scikit-learn.org.\n",
       "     See: https://github.com/scikit-learn/scikit-learn/issues/21755 */\n",
       "  display: inline-block !important;\n",
       "  position: relative;\n",
       "}\n",
       "\n",
       "#sk-container-id-1 div.sk-text-repr-fallback {\n",
       "  display: none;\n",
       "}\n",
       "\n",
       "div.sk-parallel-item,\n",
       "div.sk-serial,\n",
       "div.sk-item {\n",
       "  /* draw centered vertical line to link estimators */\n",
       "  background-image: linear-gradient(var(--sklearn-color-text-on-default-background), var(--sklearn-color-text-on-default-background));\n",
       "  background-size: 2px 100%;\n",
       "  background-repeat: no-repeat;\n",
       "  background-position: center center;\n",
       "}\n",
       "\n",
       "/* Parallel-specific style estimator block */\n",
       "\n",
       "#sk-container-id-1 div.sk-parallel-item::after {\n",
       "  content: \"\";\n",
       "  width: 100%;\n",
       "  border-bottom: 2px solid var(--sklearn-color-text-on-default-background);\n",
       "  flex-grow: 1;\n",
       "}\n",
       "\n",
       "#sk-container-id-1 div.sk-parallel {\n",
       "  display: flex;\n",
       "  align-items: stretch;\n",
       "  justify-content: center;\n",
       "  background-color: var(--sklearn-color-background);\n",
       "  position: relative;\n",
       "}\n",
       "\n",
       "#sk-container-id-1 div.sk-parallel-item {\n",
       "  display: flex;\n",
       "  flex-direction: column;\n",
       "}\n",
       "\n",
       "#sk-container-id-1 div.sk-parallel-item:first-child::after {\n",
       "  align-self: flex-end;\n",
       "  width: 50%;\n",
       "}\n",
       "\n",
       "#sk-container-id-1 div.sk-parallel-item:last-child::after {\n",
       "  align-self: flex-start;\n",
       "  width: 50%;\n",
       "}\n",
       "\n",
       "#sk-container-id-1 div.sk-parallel-item:only-child::after {\n",
       "  width: 0;\n",
       "}\n",
       "\n",
       "/* Serial-specific style estimator block */\n",
       "\n",
       "#sk-container-id-1 div.sk-serial {\n",
       "  display: flex;\n",
       "  flex-direction: column;\n",
       "  align-items: center;\n",
       "  background-color: var(--sklearn-color-background);\n",
       "  padding-right: 1em;\n",
       "  padding-left: 1em;\n",
       "}\n",
       "\n",
       "\n",
       "/* Toggleable style: style used for estimator/Pipeline/ColumnTransformer box that is\n",
       "clickable and can be expanded/collapsed.\n",
       "- Pipeline and ColumnTransformer use this feature and define the default style\n",
       "- Estimators will overwrite some part of the style using the `sk-estimator` class\n",
       "*/\n",
       "\n",
       "/* Pipeline and ColumnTransformer style (default) */\n",
       "\n",
       "#sk-container-id-1 div.sk-toggleable {\n",
       "  /* Default theme specific background. It is overwritten whether we have a\n",
       "  specific estimator or a Pipeline/ColumnTransformer */\n",
       "  background-color: var(--sklearn-color-background);\n",
       "}\n",
       "\n",
       "/* Toggleable label */\n",
       "#sk-container-id-1 label.sk-toggleable__label {\n",
       "  cursor: pointer;\n",
       "  display: flex;\n",
       "  width: 100%;\n",
       "  margin-bottom: 0;\n",
       "  padding: 0.5em;\n",
       "  box-sizing: border-box;\n",
       "  text-align: center;\n",
       "  align-items: start;\n",
       "  justify-content: space-between;\n",
       "  gap: 0.5em;\n",
       "}\n",
       "\n",
       "#sk-container-id-1 label.sk-toggleable__label .caption {\n",
       "  font-size: 0.6rem;\n",
       "  font-weight: lighter;\n",
       "  color: var(--sklearn-color-text-muted);\n",
       "}\n",
       "\n",
       "#sk-container-id-1 label.sk-toggleable__label-arrow:before {\n",
       "  /* Arrow on the left of the label */\n",
       "  content: \"▸\";\n",
       "  float: left;\n",
       "  margin-right: 0.25em;\n",
       "  color: var(--sklearn-color-icon);\n",
       "}\n",
       "\n",
       "#sk-container-id-1 label.sk-toggleable__label-arrow:hover:before {\n",
       "  color: var(--sklearn-color-text);\n",
       "}\n",
       "\n",
       "/* Toggleable content - dropdown */\n",
       "\n",
       "#sk-container-id-1 div.sk-toggleable__content {\n",
       "  max-height: 0;\n",
       "  max-width: 0;\n",
       "  overflow: hidden;\n",
       "  text-align: left;\n",
       "  /* unfitted */\n",
       "  background-color: var(--sklearn-color-unfitted-level-0);\n",
       "}\n",
       "\n",
       "#sk-container-id-1 div.sk-toggleable__content.fitted {\n",
       "  /* fitted */\n",
       "  background-color: var(--sklearn-color-fitted-level-0);\n",
       "}\n",
       "\n",
       "#sk-container-id-1 div.sk-toggleable__content pre {\n",
       "  margin: 0.2em;\n",
       "  border-radius: 0.25em;\n",
       "  color: var(--sklearn-color-text);\n",
       "  /* unfitted */\n",
       "  background-color: var(--sklearn-color-unfitted-level-0);\n",
       "}\n",
       "\n",
       "#sk-container-id-1 div.sk-toggleable__content.fitted pre {\n",
       "  /* unfitted */\n",
       "  background-color: var(--sklearn-color-fitted-level-0);\n",
       "}\n",
       "\n",
       "#sk-container-id-1 input.sk-toggleable__control:checked~div.sk-toggleable__content {\n",
       "  /* Expand drop-down */\n",
       "  max-height: 200px;\n",
       "  max-width: 100%;\n",
       "  overflow: auto;\n",
       "}\n",
       "\n",
       "#sk-container-id-1 input.sk-toggleable__control:checked~label.sk-toggleable__label-arrow:before {\n",
       "  content: \"▾\";\n",
       "}\n",
       "\n",
       "/* Pipeline/ColumnTransformer-specific style */\n",
       "\n",
       "#sk-container-id-1 div.sk-label input.sk-toggleable__control:checked~label.sk-toggleable__label {\n",
       "  color: var(--sklearn-color-text);\n",
       "  background-color: var(--sklearn-color-unfitted-level-2);\n",
       "}\n",
       "\n",
       "#sk-container-id-1 div.sk-label.fitted input.sk-toggleable__control:checked~label.sk-toggleable__label {\n",
       "  background-color: var(--sklearn-color-fitted-level-2);\n",
       "}\n",
       "\n",
       "/* Estimator-specific style */\n",
       "\n",
       "/* Colorize estimator box */\n",
       "#sk-container-id-1 div.sk-estimator input.sk-toggleable__control:checked~label.sk-toggleable__label {\n",
       "  /* unfitted */\n",
       "  background-color: var(--sklearn-color-unfitted-level-2);\n",
       "}\n",
       "\n",
       "#sk-container-id-1 div.sk-estimator.fitted input.sk-toggleable__control:checked~label.sk-toggleable__label {\n",
       "  /* fitted */\n",
       "  background-color: var(--sklearn-color-fitted-level-2);\n",
       "}\n",
       "\n",
       "#sk-container-id-1 div.sk-label label.sk-toggleable__label,\n",
       "#sk-container-id-1 div.sk-label label {\n",
       "  /* The background is the default theme color */\n",
       "  color: var(--sklearn-color-text-on-default-background);\n",
       "}\n",
       "\n",
       "/* On hover, darken the color of the background */\n",
       "#sk-container-id-1 div.sk-label:hover label.sk-toggleable__label {\n",
       "  color: var(--sklearn-color-text);\n",
       "  background-color: var(--sklearn-color-unfitted-level-2);\n",
       "}\n",
       "\n",
       "/* Label box, darken color on hover, fitted */\n",
       "#sk-container-id-1 div.sk-label.fitted:hover label.sk-toggleable__label.fitted {\n",
       "  color: var(--sklearn-color-text);\n",
       "  background-color: var(--sklearn-color-fitted-level-2);\n",
       "}\n",
       "\n",
       "/* Estimator label */\n",
       "\n",
       "#sk-container-id-1 div.sk-label label {\n",
       "  font-family: monospace;\n",
       "  font-weight: bold;\n",
       "  display: inline-block;\n",
       "  line-height: 1.2em;\n",
       "}\n",
       "\n",
       "#sk-container-id-1 div.sk-label-container {\n",
       "  text-align: center;\n",
       "}\n",
       "\n",
       "/* Estimator-specific */\n",
       "#sk-container-id-1 div.sk-estimator {\n",
       "  font-family: monospace;\n",
       "  border: 1px dotted var(--sklearn-color-border-box);\n",
       "  border-radius: 0.25em;\n",
       "  box-sizing: border-box;\n",
       "  margin-bottom: 0.5em;\n",
       "  /* unfitted */\n",
       "  background-color: var(--sklearn-color-unfitted-level-0);\n",
       "}\n",
       "\n",
       "#sk-container-id-1 div.sk-estimator.fitted {\n",
       "  /* fitted */\n",
       "  background-color: var(--sklearn-color-fitted-level-0);\n",
       "}\n",
       "\n",
       "/* on hover */\n",
       "#sk-container-id-1 div.sk-estimator:hover {\n",
       "  /* unfitted */\n",
       "  background-color: var(--sklearn-color-unfitted-level-2);\n",
       "}\n",
       "\n",
       "#sk-container-id-1 div.sk-estimator.fitted:hover {\n",
       "  /* fitted */\n",
       "  background-color: var(--sklearn-color-fitted-level-2);\n",
       "}\n",
       "\n",
       "/* Specification for estimator info (e.g. \"i\" and \"?\") */\n",
       "\n",
       "/* Common style for \"i\" and \"?\" */\n",
       "\n",
       ".sk-estimator-doc-link,\n",
       "a:link.sk-estimator-doc-link,\n",
       "a:visited.sk-estimator-doc-link {\n",
       "  float: right;\n",
       "  font-size: smaller;\n",
       "  line-height: 1em;\n",
       "  font-family: monospace;\n",
       "  background-color: var(--sklearn-color-background);\n",
       "  border-radius: 1em;\n",
       "  height: 1em;\n",
       "  width: 1em;\n",
       "  text-decoration: none !important;\n",
       "  margin-left: 0.5em;\n",
       "  text-align: center;\n",
       "  /* unfitted */\n",
       "  border: var(--sklearn-color-unfitted-level-1) 1pt solid;\n",
       "  color: var(--sklearn-color-unfitted-level-1);\n",
       "}\n",
       "\n",
       ".sk-estimator-doc-link.fitted,\n",
       "a:link.sk-estimator-doc-link.fitted,\n",
       "a:visited.sk-estimator-doc-link.fitted {\n",
       "  /* fitted */\n",
       "  border: var(--sklearn-color-fitted-level-1) 1pt solid;\n",
       "  color: var(--sklearn-color-fitted-level-1);\n",
       "}\n",
       "\n",
       "/* On hover */\n",
       "div.sk-estimator:hover .sk-estimator-doc-link:hover,\n",
       ".sk-estimator-doc-link:hover,\n",
       "div.sk-label-container:hover .sk-estimator-doc-link:hover,\n",
       ".sk-estimator-doc-link:hover {\n",
       "  /* unfitted */\n",
       "  background-color: var(--sklearn-color-unfitted-level-3);\n",
       "  color: var(--sklearn-color-background);\n",
       "  text-decoration: none;\n",
       "}\n",
       "\n",
       "div.sk-estimator.fitted:hover .sk-estimator-doc-link.fitted:hover,\n",
       ".sk-estimator-doc-link.fitted:hover,\n",
       "div.sk-label-container:hover .sk-estimator-doc-link.fitted:hover,\n",
       ".sk-estimator-doc-link.fitted:hover {\n",
       "  /* fitted */\n",
       "  background-color: var(--sklearn-color-fitted-level-3);\n",
       "  color: var(--sklearn-color-background);\n",
       "  text-decoration: none;\n",
       "}\n",
       "\n",
       "/* Span, style for the box shown on hovering the info icon */\n",
       ".sk-estimator-doc-link span {\n",
       "  display: none;\n",
       "  z-index: 9999;\n",
       "  position: relative;\n",
       "  font-weight: normal;\n",
       "  right: .2ex;\n",
       "  padding: .5ex;\n",
       "  margin: .5ex;\n",
       "  width: min-content;\n",
       "  min-width: 20ex;\n",
       "  max-width: 50ex;\n",
       "  color: var(--sklearn-color-text);\n",
       "  box-shadow: 2pt 2pt 4pt #999;\n",
       "  /* unfitted */\n",
       "  background: var(--sklearn-color-unfitted-level-0);\n",
       "  border: .5pt solid var(--sklearn-color-unfitted-level-3);\n",
       "}\n",
       "\n",
       ".sk-estimator-doc-link.fitted span {\n",
       "  /* fitted */\n",
       "  background: var(--sklearn-color-fitted-level-0);\n",
       "  border: var(--sklearn-color-fitted-level-3);\n",
       "}\n",
       "\n",
       ".sk-estimator-doc-link:hover span {\n",
       "  display: block;\n",
       "}\n",
       "\n",
       "/* \"?\"-specific style due to the `<a>` HTML tag */\n",
       "\n",
       "#sk-container-id-1 a.estimator_doc_link {\n",
       "  float: right;\n",
       "  font-size: 1rem;\n",
       "  line-height: 1em;\n",
       "  font-family: monospace;\n",
       "  background-color: var(--sklearn-color-background);\n",
       "  border-radius: 1rem;\n",
       "  height: 1rem;\n",
       "  width: 1rem;\n",
       "  text-decoration: none;\n",
       "  /* unfitted */\n",
       "  color: var(--sklearn-color-unfitted-level-1);\n",
       "  border: var(--sklearn-color-unfitted-level-1) 1pt solid;\n",
       "}\n",
       "\n",
       "#sk-container-id-1 a.estimator_doc_link.fitted {\n",
       "  /* fitted */\n",
       "  border: var(--sklearn-color-fitted-level-1) 1pt solid;\n",
       "  color: var(--sklearn-color-fitted-level-1);\n",
       "}\n",
       "\n",
       "/* On hover */\n",
       "#sk-container-id-1 a.estimator_doc_link:hover {\n",
       "  /* unfitted */\n",
       "  background-color: var(--sklearn-color-unfitted-level-3);\n",
       "  color: var(--sklearn-color-background);\n",
       "  text-decoration: none;\n",
       "}\n",
       "\n",
       "#sk-container-id-1 a.estimator_doc_link.fitted:hover {\n",
       "  /* fitted */\n",
       "  background-color: var(--sklearn-color-fitted-level-3);\n",
       "}\n",
       "</style><div id=\"sk-container-id-1\" class=\"sk-top-container\"><div class=\"sk-text-repr-fallback\"><pre>RandomForestClassifier()</pre><b>In a Jupyter environment, please rerun this cell to show the HTML representation or trust the notebook. <br />On GitHub, the HTML representation is unable to render, please try loading this page with nbviewer.org.</b></div><div class=\"sk-container\" hidden><div class=\"sk-item\"><div class=\"sk-estimator fitted sk-toggleable\"><input class=\"sk-toggleable__control sk-hidden--visually\" id=\"sk-estimator-id-1\" type=\"checkbox\" checked><label for=\"sk-estimator-id-1\" class=\"sk-toggleable__label fitted sk-toggleable__label-arrow\"><div><div>RandomForestClassifier</div></div><div><a class=\"sk-estimator-doc-link fitted\" rel=\"noreferrer\" target=\"_blank\" href=\"https://scikit-learn.org/1.6/modules/generated/sklearn.ensemble.RandomForestClassifier.html\">?<span>Documentation for RandomForestClassifier</span></a><span class=\"sk-estimator-doc-link fitted\">i<span>Fitted</span></span></div></label><div class=\"sk-toggleable__content fitted\"><pre>RandomForestClassifier()</pre></div> </div></div></div></div>"
      ],
      "text/plain": [
       "RandomForestClassifier()"
      ]
     },
     "execution_count": 18,
     "metadata": {},
     "output_type": "execute_result"
    }
   ],
   "source": [
    "# load data \n",
    "iris = load_iris()\n",
    "\n",
    "sepal_length = [4.0,8.0,6.0] \n",
    "sepal_width =  [2.0,4.5,3.2]\n",
    "petal_length = [1.0,7.0,4.0]\n",
    "petal_width = [0.1,2.3,1.2]\n",
    "# model - ML algm\n",
    "obj = RandomForestClassifier()\n",
    "obj.fit(iris.data,iris.target)\n",
    "\n",
    "# prediction\n",
    "# obj.predict([[sepal_length,sepal_width,petal_length,petal_width]])\n",
    "#iris.target_names[pred][0]"
   ]
  },
  {
   "cell_type": "code",
   "execution_count": 25,
   "id": "d6879dab-ba98-4ced-afca-b5077d70429f",
   "metadata": {},
   "outputs": [
    {
     "data": {
      "text/plain": [
       "[<matplotlib.lines.Line2D at 0x2bbfee3de50>]"
      ]
     },
     "execution_count": 25,
     "metadata": {},
     "output_type": "execute_result"
    },
    {
     "data": {
      "image/png": "[encoded data removed]",
      "text/plain": [
       "<Figure size 640x480 with 1 Axes>"
      ]
     },
     "metadata": {},
     "output_type": "display_data"
    }
   ],
   "source": [
    "import matplotlib.pyplot as plt\n",
    "plt.scatter([11,12,30],[75,80,450],color='r')\n",
    "plt.plot([10,20,30],[100,200,400],marker='o')"
   ]
  },
  {
   "cell_type": "code",
   "execution_count": 27,
   "id": "4e5998bb-e8a4-4df2-a1ce-3b5c0d0b9d98",
   "metadata": {},
   "outputs": [
    {
     "data": {
      "text/plain": [
       "'C:\\\\Users\\\\karth\\\\llmapps'"
      ]
     },
     "execution_count": 27,
     "metadata": {},
     "output_type": "execute_result"
    }
   ],
   "source": [
    "os.getcwd()"
   ]
  },
  {
   "cell_type": "code",
   "execution_count": 28,
   "id": "f533ad8f-6882-43be-a7e2-1771b89ace1b",
   "metadata": {},
   "outputs": [
    {
     "data": {
      "text/plain": [
       "['p1.py',\n",
       " 'p2.py',\n",
       " 'p3.py',\n",
       " 'p4.py',\n",
       " 'p5.py',\n",
       " 'p6.py',\n",
       " 'p7.py',\n",
       " 'p7_randomforest.py',\n",
       " 'PDF_RAG_app.py']"
      ]
     },
     "execution_count": 28,
     "metadata": {},
     "output_type": "execute_result"
    }
   ],
   "source": [
    "os.listdir('.')"
   ]
  },
  {
   "cell_type": "code",
   "execution_count": 29,
   "id": "f2b7a80e-7f85-4ea5-8166-1ab8054121a3",
   "metadata": {},
   "outputs": [
    {
     "name": "stdout",
     "output_type": "stream",
     "text": [
      "^C\n"
     ]
    }
   ],
   "source": [
    "! streamlit run PDF_RAG_app.py"
   ]
  },
  {
   "cell_type": "code",
   "execution_count": null,
   "id": "73c50f1a-1a35-461f-bae4-59cc88dd5f38",
   "metadata": {},
   "outputs": [],
   "source": [
    "In Lang chain\n",
    "|->Loading ->chunks ->embedding ->vectorstore ->...\n",
    "    \n",
    "LangGraph\n",
    "=========\n",
    "|->LangGraph  - library/framework\n",
    "  |->application steps many + more tools + more data...//langgraph\n",
    " |->multistep stateful \n",
    "\n",
    "Graph(G)=(V,E)\n",
    "\n",
    "person1 <------edge------> person2\n",
    "(node1)                (node2)\n",
    "  |\n",
    " edge\n",
    "  |\n",
    "(person3)\n",
    "\n",
    "llm = model \n",
    "tool (ex: calc )\n",
    "agent = model + tool \n",
    "=====    ---     ===\n",
    "\n",
    "1. node\n",
    "2. edge\n",
    "3. state/memory \n",
    "4. human in loop \n",
    "\n",
    "[Person] --- City1 -->City2\n",
    "  |-->AI Assist \n",
    "             |->book the ticket - bookagent  \n",
    "        <-------->\n",
    "\n",
    "[user prompt]\n",
    " |\n",
    "planner agent <----> llm\n",
    " |\n",
    "executer agent\n",
    " |\n",
    "[output]"
   ]
  },
  {
   "cell_type": "code",
   "execution_count": 30,
   "id": "8e75d1da-8051-438a-8b91-f0b875b81f53",
   "metadata": {
    "collapsed": true,
    "jupyter": {
     "outputs_hidden": true
    },
    "scrolled": true
   },
   "outputs": [
    {
     "name": "stdout",
     "output_type": "stream",
     "text": [
      "Requirement already satisfied: langgraph in c:\\programdata\\anaconda3\\lib\\site-packages (0.6.2)Note: you may need to restart the kernel to use updated packages.\n",
      "\n",
      "Requirement already satisfied: langchain-core>=0.1 in c:\\programdata\\anaconda3\\lib\\site-packages (from langgraph) (0.3.79)\n",
      "Requirement already satisfied: langgraph-checkpoint<3.0.0,>=2.1.0 in c:\\programdata\\anaconda3\\lib\\site-packages (from langgraph) (2.1.1)\n",
      "Requirement already satisfied: langgraph-prebuilt<0.7.0,>=0.6.0 in c:\\programdata\\anaconda3\\lib\\site-packages (from langgraph) (0.6.2)\n",
      "Requirement already satisfied: langgraph-sdk<0.3.0,>=0.2.0 in c:\\programdata\\anaconda3\\lib\\site-packages (from langgraph) (0.2.0)\n",
      "Requirement already satisfied: pydantic>=2.7.4 in c:\\users\\karth\\appdata\\roaming\\python\\python313\\site-packages (from langgraph) (2.11.7)\n",
      "Requirement already satisfied: xxhash>=3.5.0 in c:\\programdata\\anaconda3\\lib\\site-packages (from langgraph) (3.5.0)\n",
      "Requirement already satisfied: ormsgpack>=1.10.0 in c:\\programdata\\anaconda3\\lib\\site-packages (from langgraph-checkpoint<3.0.0,>=2.1.0->langgraph) (1.10.0)\n",
      "Requirement already satisfied: httpx>=0.25.2 in c:\\programdata\\anaconda3\\lib\\site-packages (from langgraph-sdk<0.3.0,>=0.2.0->langgraph) (0.28.1)\n",
      "Requirement already satisfied: orjson>=3.10.1 in c:\\users\\karth\\appdata\\roaming\\python\\python313\\site-packages (from langgraph-sdk<0.3.0,>=0.2.0->langgraph) (3.11.0)\n",
      "Requirement already satisfied: anyio in c:\\programdata\\anaconda3\\lib\\site-packages (from httpx>=0.25.2->langgraph-sdk<0.3.0,>=0.2.0->langgraph) (4.7.0)\n",
      "Requirement already satisfied: certifi in c:\\programdata\\anaconda3\\lib\\site-packages (from httpx>=0.25.2->langgraph-sdk<0.3.0,>=0.2.0->langgraph) (2025.6.15)\n",
      "Requirement already satisfied: httpcore==1.* in c:\\programdata\\anaconda3\\lib\\site-packages (from httpx>=0.25.2->langgraph-sdk<0.3.0,>=0.2.0->langgraph) (1.0.9)\n",
      "Requirement already satisfied: idna in c:\\programdata\\anaconda3\\lib\\site-packages (from httpx>=0.25.2->langgraph-sdk<0.3.0,>=0.2.0->langgraph) (3.7)\n",
      "Requirement already satisfied: h11>=0.16 in c:\\programdata\\anaconda3\\lib\\site-packages (from httpcore==1.*->httpx>=0.25.2->langgraph-sdk<0.3.0,>=0.2.0->langgraph) (0.16.0)\n",
      "Requirement already satisfied: langsmith<1.0.0,>=0.3.45 in c:\\users\\karth\\appdata\\roaming\\python\\python313\\site-packages (from langchain-core>=0.1->langgraph) (0.4.8)\n",
      "Requirement already satisfied: tenacity!=8.4.0,<10.0.0,>=8.1.0 in c:\\programdata\\anaconda3\\lib\\site-packages (from langchain-core>=0.1->langgraph) (9.0.0)\n",
      "Requirement already satisfied: jsonpatch<2.0.0,>=1.33.0 in c:\\programdata\\anaconda3\\lib\\site-packages (from langchain-core>=0.1->langgraph) (1.33)\n",
      "Requirement already satisfied: PyYAML<7.0.0,>=5.3.0 in c:\\programdata\\anaconda3\\lib\\site-packages (from langchain-core>=0.1->langgraph) (6.0.2)\n",
      "Requirement already satisfied: typing-extensions<5.0.0,>=4.7.0 in c:\\programdata\\anaconda3\\lib\\site-packages (from langchain-core>=0.1->langgraph) (4.12.2)\n",
      "Requirement already satisfied: packaging<26.0.0,>=23.2.0 in c:\\programdata\\anaconda3\\lib\\site-packages (from langchain-core>=0.1->langgraph) (24.2)\n",
      "Requirement already satisfied: jsonpointer>=1.9 in c:\\programdata\\anaconda3\\lib\\site-packages (from jsonpatch<2.0.0,>=1.33.0->langchain-core>=0.1->langgraph) (2.1)\n",
      "Requirement already satisfied: requests<3,>=2 in c:\\programdata\\anaconda3\\lib\\site-packages (from langsmith<1.0.0,>=0.3.45->langchain-core>=0.1->langgraph) (2.32.3)\n",
      "Requirement already satisfied: requests-toolbelt<2.0.0,>=1.0.0 in c:\\programdata\\anaconda3\\lib\\site-packages (from langsmith<1.0.0,>=0.3.45->langchain-core>=0.1->langgraph) (1.0.0)\n",
      "Requirement already satisfied: zstandard<0.24.0,>=0.23.0 in c:\\programdata\\anaconda3\\lib\\site-packages (from langsmith<1.0.0,>=0.3.45->langchain-core>=0.1->langgraph) (0.23.0)\n",
      "Requirement already satisfied: annotated-types>=0.6.0 in c:\\programdata\\anaconda3\\lib\\site-packages (from pydantic>=2.7.4->langgraph) (0.6.0)\n",
      "Requirement already satisfied: pydantic-core==2.33.2 in c:\\users\\karth\\appdata\\roaming\\python\\python313\\site-packages (from pydantic>=2.7.4->langgraph) (2.33.2)\n",
      "Requirement already satisfied: typing-inspection>=0.4.0 in c:\\users\\karth\\appdata\\roaming\\python\\python313\\site-packages (from pydantic>=2.7.4->langgraph) (0.4.1)\n",
      "Requirement already satisfied: charset-normalizer<4,>=2 in c:\\programdata\\anaconda3\\lib\\site-packages (from requests<3,>=2->langsmith<1.0.0,>=0.3.45->langchain-core>=0.1->langgraph) (3.3.2)\n",
      "Requirement already satisfied: urllib3<3,>=1.21.1 in c:\\programdata\\anaconda3\\lib\\site-packages (from requests<3,>=2->langsmith<1.0.0,>=0.3.45->langchain-core>=0.1->langgraph) (2.3.0)\n",
      "Requirement already satisfied: sniffio>=1.1 in c:\\programdata\\anaconda3\\lib\\site-packages (from anyio->httpx>=0.25.2->langgraph-sdk<0.3.0,>=0.2.0->langgraph) (1.3.0)\n"
     ]
    }
   ],
   "source": [
    "pip install langgraph"
   ]
  },
  {
   "cell_type": "code",
   "execution_count": 35,
   "id": "a7f78053-f5df-45f1-90b8-1ec17c1039c3",
   "metadata": {},
   "outputs": [],
   "source": [
    "import langgraph"
   ]
  },
  {
   "cell_type": "code",
   "execution_count": 44,
   "id": "edef26b8-64fc-456c-9537-ad54518bf821",
   "metadata": {},
   "outputs": [
    {
     "data": {
      "text/plain": [
       "<bound method StateGraph.add_node of <langgraph.graph.state.StateGraph object at 0x000002BBFEE01590>>"
      ]
     },
     "execution_count": 44,
     "metadata": {},
     "output_type": "execute_result"
    }
   ],
   "source": [
    "from langgraph.graph import StateGraph,END\n",
    "\n",
    "class state(dict):\n",
    "    messages: list\n",
    "\n",
    "StateGraph(state).add_node"
   ]
  },
  {
   "cell_type": "code",
   "execution_count": null,
   "id": "f3419edd-9948-4147-938d-52301da42651",
   "metadata": {},
   "outputs": [],
   "source": [
    "typing module => native types\n",
    "  Query - string\n",
    "  response - list\n",
    "typedict\n",
    "---\n",
    "__init__\n",
    "__del__\n",
    "__call__\n",
    "__str__"
   ]
  },
  {
   "cell_type": "code",
   "execution_count": 45,
   "id": "59b03e63-eb98-4c8f-bb47-ec127a9ea68b",
   "metadata": {},
   "outputs": [
    {
     "data": {
      "text/plain": [
       "5"
      ]
     },
     "execution_count": 45,
     "metadata": {},
     "output_type": "execute_result"
    }
   ],
   "source": [
    "s='hello'\n",
    "len(s)"
   ]
  },
  {
   "cell_type": "code",
   "execution_count": 47,
   "id": "c66ee332-c025-4925-8c73-12065688f039",
   "metadata": {},
   "outputs": [],
   "source": [
    "class box:\n",
    "    def __init__(self):\n",
    "        self.var = 10\n",
    "obj = box()\n",
    "# len(obj) TypeError: object of type 'box' has no len()"
   ]
  },
  {
   "cell_type": "code",
   "execution_count": 48,
   "id": "5ee8d5d2-6ac0-4d05-82c4-7d9e0f71cf95",
   "metadata": {},
   "outputs": [
    {
     "data": {
      "text/plain": [
       "10"
      ]
     },
     "execution_count": 48,
     "metadata": {},
     "output_type": "execute_result"
    }
   ],
   "source": [
    "class box:\n",
    "    def __len__(self):\n",
    "        return 10\n",
    "obj = box()\n",
    "len(obj)"
   ]
  },
  {
   "cell_type": "code",
   "execution_count": 52,
   "id": "0ef1a171-4a64-4334-b69e-6915243ea6f6",
   "metadata": {},
   "outputs": [],
   "source": [
    "llm_obj = ChatGroq(model=\"groq/compound-mini\",api_key=os.getenv(\"GROQ_API_KEY\"))"
   ]
  },
  {
   "cell_type": "code",
   "execution_count": 83,
   "id": "0bbe9dcf-22f2-43a6-8bd6-9a9180db2df9",
   "metadata": {},
   "outputs": [],
   "source": [
    "from typing import List,TypedDict,Optional"
   ]
  },
  {
   "cell_type": "code",
   "execution_count": 91,
   "id": "dbfa15d5-e7ae-4d89-bc0f-422faba20e12",
   "metadata": {},
   "outputs": [],
   "source": [
    "class AgentState(TypedDict):\n",
    "    user_input: str\n",
    "    task_list: List[str]\n",
    "    final_output: Optional[str]"
   ]
  },
  {
   "cell_type": "code",
   "execution_count": 92,
   "id": "dc75c8d6-1d0f-4d04-a2d2-efab55a0b934",
   "metadata": {},
   "outputs": [],
   "source": [
    "def planner_node(state: dict) ->dict:\n",
    "    #prompt= f\"Give step by step task results:{state:['user_input']}\"\n",
    "    prompt = f\"Give step by step task results: {state.get('user_input')}\"\n",
    "    response = llm_obj.invoke(prompt)\n",
    "    r = response.content\n",
    "    step_lines = [var.strip(\"-\").strip() for var in r.split(\"\\n\") if var.strip()]\n",
    "    #print(\"Planner output:\",step_lines)\n",
    "    return {\"task_list\": step_lines}"
   ]
  },
  {
   "cell_type": "code",
   "execution_count": 102,
   "id": "51fbcc07-8056-415e-805f-d8187b0c5100",
   "metadata": {},
   "outputs": [],
   "source": [
    "def executor_node(state: dict) ->dict:\n",
    "    steps = state.get(\"task_list\",[])\n",
    "    final_docs = \" --> \".join(steps) + \" --> Thank you!\"\n",
    "    return {'final_output':final_docs}"
   ]
  },
  {
   "cell_type": "code",
   "execution_count": 103,
   "id": "9b7240c9-9518-416e-ad28-defabf1e94f8",
   "metadata": {},
   "outputs": [],
   "source": [
    "from langgraph.graph import StateGraph\n",
    "\n",
    "gobj = StateGraph(state_schema=AgentState)\n"
   ]
  },
  {
   "cell_type": "code",
   "execution_count": 104,
   "id": "105c955c-bae4-4e79-861c-4c6d3a2b0890",
   "metadata": {},
   "outputs": [
    {
     "data": {
      "text/plain": [
       "<langgraph.graph.state.StateGraph at 0x2bb87c23020>"
      ]
     },
     "execution_count": 104,
     "metadata": {},
     "output_type": "execute_result"
    }
   ],
   "source": [
    "gobj.add_node('planner',planner_node)\n",
    "gobj.add_node('executor',executor_node)\n",
    "\n",
    "gobj.set_entry_point('planner')\n",
    "gobj.add_edge(\"planner\",\"executor\")\n",
    "gobj.set_finish_point(\"executor\")"
   ]
  },
  {
   "cell_type": "code",
   "execution_count": 105,
   "id": "7e4b182c-f1ed-479d-887e-75a96995c243",
   "metadata": {},
   "outputs": [],
   "source": [
    "graph_compiled = gobj.compile()"
   ]
  },
  {
   "cell_type": "code",
   "execution_count": 106,
   "id": "d5f65279-4b60-4584-a993-9b93b6db1c38",
   "metadata": {},
   "outputs": [],
   "source": [
    "state = {\"user_input\": \"what is langgraph?\"}\n",
    "final_state = graph_compiled.invoke(state)"
   ]
  },
  {
   "cell_type": "code",
   "execution_count": 107,
   "id": "c55f4c9a-ec39-4b97-ae4c-6ff349f976cd",
   "metadata": {},
   "outputs": [
    {
     "name": "stdout",
     "output_type": "stream",
     "text": [
      "dict_keys(['user_input', 'task_list', 'final_output'])\n"
     ]
    }
   ],
   "source": [
    "print(final_state.keys())"
   ]
  },
  {
   "cell_type": "code",
   "execution_count": 109,
   "id": "2ea91c1f-c5e7-4fe6-ab28-a1f10a84e892",
   "metadata": {
    "collapsed": true,
    "jupyter": {
     "outputs_hidden": true
    }
   },
   "outputs": [
    {
     "name": "stdout",
     "output_type": "stream",
     "text": [
      "('**LangGraph – Step‑by‑Step Overview** --> Below is a concise, numbered '\n",
      " 'walk‑through that explains *what* LangGraph is, how it is built, and why it '\n",
      " 'matters. -->  --> ### 1. What\\u202fis\\u202fLangGraph? --> **A graph‑based '\n",
      " 'orchestration framework** for building, managing, and deploying **stateful, '\n",
      " 'long‑running AI agents**. --> It sits on top of **LangChain** (or can be '\n",
      " 'used independently) and adds **cyclic graph capabilities** that go beyond '\n",
      " 'the linear “chain” model of LangChain. --> ### 2. Core Design Principle --> '\n",
      " '**Workflows = Graphs** --> - **Nodes** = individual computational steps (LLM '\n",
      " 'calls, tool invocations, Python functions, etc.). --> - **Edges** = the '\n",
      " 'routing logic that decides which node runs next, based on the current state '\n",
      " 'or output. --> This graph model enables **loops, branching, and conditional '\n",
      " 'paths**—the building blocks of autonomous, multi‑agent systems. --> ### 3. '\n",
      " 'Key Components --> | Component | Role | --> |-----------|------| --> | '\n",
      " '**State** | A shared data structure (any Python type) that holds the current '\n",
      " 'snapshot of the workflow. It persists across node executions, acting as the '\n",
      " 'agent’s memory. | --> | **Nodes** | Pure functions (or async functions) that '\n",
      " 'receive the current `State`, perform work (e.g., call an LLM, query a DB, '\n",
      " 'run code), and return an updated `State`. | --> | **Edges** | Declarative '\n",
      " 'routing rules (often expressed as `if‑else` conditions) that map the output '\n",
      " 'of a node to the next node(s). | --> | **Checkpointer** (optional) | '\n",
      " 'Persists state between runs, enabling resumable, long‑running processes. | '\n",
      " '--> ### 4. How It Differs from Traditional Pipelines --> | Traditional '\n",
      " '(LangChain) | LangGraph | --> |--------------------------|-----------| --> | '\n",
      " '**Directed Acyclic Graph (DAG)** – no cycles, linear flow. | **Cyclic '\n",
      " 'Graph** – supports loops, retries, and dynamic re‑routing. | --> | Implicit '\n",
      " 'state (often external memory). | Built‑in **persistent state** shared by all '\n",
      " 'nodes. | --> | Simple “chain” or “agent” abstractions. | Low‑level **state '\n",
      " 'machine** style orchestration, giving full control over branching and '\n",
      " 'iteration. | --> ### 5. Core Benefits --> 1. **Flexibility** – Model any '\n",
      " 'workflow shape: linear, branching, or looping. --> 2. **Stateful Execution** '\n",
      " '– Automatic state persistence across steps; no need for external memory '\n",
      " 'hacks. --> 3. **Multi‑Agent Coordination** – Multiple agents (or chains) can '\n",
      " 'interact within the same graph, sharing state. --> 4. **Error Handling & '\n",
      " 'Retries** – Loops make it easy to re‑run a node until a condition is '\n",
      " 'satisfied. --> 5. **Observability** – Because each node is a distinct '\n",
      " 'function, you can log, debug, or visualize the graph execution step‑by‑step. '\n",
      " '--> ### 6. Typical Use‑Cases --> **Autonomous agents** that decide their '\n",
      " 'next action (e.g., “research → plan → execute → verify” loops). --> '\n",
      " '**Complex RAG pipelines** with dynamic retrieval, summarization, and '\n",
      " 'feedback loops. --> **Workflow automation** where human‑in‑the‑loop steps '\n",
      " 'are interleaved with LLM calls. --> **Multi‑agent systems** (e.g., a chatbot '\n",
      " '+ a data‑fetcher + a planner) that need to share context. --> ### 7. Example '\n",
      " 'Skeleton (Python) --> ```python --> from langgraph.graph import StateGraph, '\n",
      " 'END --> # 1️⃣ Define the shared state schema --> class MyState(dict): --> # '\n",
      " 'you can use pydantic/BaseModel for stricter typing --> pass --> # 2️⃣ Define '\n",
      " 'node functions --> def start(state: MyState): --> # initial prompt to LLM '\n",
      " '--> response = llm.invoke(\"What should I do next?\") --> state[\"last_output\"] '\n",
      " '= response --> return state --> def decide(state: MyState): --> # simple '\n",
      " 'decision logic --> if \"search\" in state[\"last_output\"]: --> return \"search\" '\n",
      " '--> return \"finish\" --> def search(state: MyState): --> results = '\n",
      " 'search_tool(state[\"last_output\"]) --> state[\"search_results\"] = results --> '\n",
      " 'return state --> def finish(state: MyState): --> # final output --> return '\n",
      " '{\"final_answer\": state.get(\"search_results\", \"No data\")} --> # 3️⃣ Build the '\n",
      " 'graph --> graph = StateGraph(MyState) --> graph.add_node(\"start\", start) --> '\n",
      " 'graph.add_node(\"decide\", decide) --> graph.add_node(\"search\", search) --> '\n",
      " 'graph.add_node(\"finish\", finish) --> # 4️⃣ Define edges (routing) --> '\n",
      " 'graph.add_edge(\"start\", \"decide\") --> graph.add_conditional_edges( --> '\n",
      " '\"decide\", --> { --> \"search\": \"search\", --> \"finish\": \"finish\", --> }, --> ) '\n",
      " '--> graph.add_edge(\"search\", \"decide\")   # loop back for another decision '\n",
      " '--> graph.add_edge(\"finish\", END) --> # 5️⃣ Compile & run --> app = '\n",
      " 'graph.compile() --> result = app.invoke({\"input\": \"Tell me about '\n",
      " 'LangGraph\"}) --> print(result) --> ``` --> **Step‑by‑step flow**: `start → '\n",
      " 'decide → (search → decide)* → finish`. --> The `State` travels through each '\n",
      " 'node, automatically persisting updates. --> ### 8. Ecosystem & Adoption --> '\n",
      " '**Open‑source (MIT license)** – free to use and extend. --> Trusted by '\n",
      " 'companies such as **Klarna, Replit, Elastic**, and many others. --> '\n",
      " 'Integrated with **LangSmith** for debugging, tracing, and deployment. --> '\n",
      " '### 9. When to Choose LangGraph --> You need **dynamic control flow** '\n",
      " '(loops, retries, conditional branching). --> Your application is '\n",
      " '**stateful** and must remember context across many steps. --> You are '\n",
      " 'building **multi‑agent** or **autonomous** systems where agents must '\n",
      " 'interact and share data. --> You want **fine‑grained observability** and the '\n",
      " 'ability to **pause/resume** long‑running tasks. -->  --> **Bottom line:** '\n",
      " 'LangGraph is a low‑level, graph‑oriented runtime that turns LLM‑driven logic '\n",
      " 'into a **stateful, programmable graph**, giving developers the flexibility '\n",
      " 'to build sophisticated, autonomous AI agents and workflows that go far '\n",
      " 'beyond linear chains. --> Thank you!')\n"
     ]
    }
   ],
   "source": [
    "# print(final_state['final_output'])\n",
    "import pprint\n",
    "pprint.pprint(final_state['final_output'])"
   ]
  },
  {
   "cell_type": "code",
   "execution_count": 113,
   "id": "1d837aac-04be-49b1-aba9-fa34cecfcb4d",
   "metadata": {
    "scrolled": true
   },
   "outputs": [
    {
     "data": {
      "image/png": "[encoded data removed]",
      "text/plain": [
       "<IPython.core.display.Image object>"
      ]
     },
     "metadata": {},
     "output_type": "display_data"
    }
   ],
   "source": [
    "from IPython.display import Image,display\n",
    "try:\n",
    "    display(Image(graph_compiled.get_graph().draw_mermaid_png()))\n",
    "except Exception:\n",
    "    pass\n"
   ]
  },
  {
   "cell_type": "code",
   "execution_count": null,
   "id": "c716ad45-d177-4a9f-bbde-44c816c5557c",
   "metadata": {},
   "outputs": [],
   "source": []
  }
 ],
 "metadata": {
  "kernelspec": {
   "display_name": "Python [conda env:base] *",
   "language": "python",
   "name": "conda-base-py"
  },
  "language_info": {
   "codemirror_mode": {
    "name": "ipython",
    "version": 3
   },
   "file_extension": ".py",
   "mimetype": "text/x-python",
   "name": "python",
   "nbconvert_exporter": "python",
   "pygments_lexer": "ipython3",
   "version": "3.13.5"
  }
 },
 "nbformat": 4,
 "nbformat_minor": 5
}
