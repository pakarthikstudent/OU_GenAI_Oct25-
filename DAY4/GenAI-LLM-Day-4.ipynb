{
 "cells": [
  {
   "cell_type": "code",
   "execution_count": 1,
   "id": "306d9363-7fac-4940-b285-d07d957c5661",
   "metadata": {},
   "outputs": [],
   "source": [
    "from langchain_community.llms import Ollama\n",
    "from langchain_community.document_loaders import TextLoader\n",
    "from langchain_text_splitters import CharacterTextSplitter\n",
    "from langchain_community.vectorstores import FAISS\n",
    "from langchain.embeddings import HuggingFaceEmbeddings\n",
    "\n",
    "from langchain_groq import ChatGroq\n",
    "from langchain.chains import RetrievalQA"
   ]
  },
  {
   "cell_type": "code",
   "execution_count": 3,
   "id": "f0fca4d7-f244-4a35-ab26-d67ef4575851",
   "metadata": {},
   "outputs": [
    {
     "data": {
      "text/plain": [
       "True"
      ]
     },
     "execution_count": 3,
     "metadata": {},
     "output_type": "execute_result"
    }
   ],
   "source": [
    "import os\n",
    "from dotenv import load_dotenv\n",
    "load_dotenv()"
   ]
  },
  {
   "cell_type": "code",
   "execution_count": 4,
   "id": "afdfbcc0-73ed-4112-a38b-09ca8d50a24c",
   "metadata": {},
   "outputs": [],
   "source": [
    "llm_obj = ChatGroq(model=\"groq/compound-mini\",api_key=os.getenv(\"GROQ_API_KEY\"))"
   ]
  },
  {
   "cell_type": "code",
   "execution_count": 5,
   "id": "e76954a1-3faa-4bc6-bcde-d5de4eab8914",
   "metadata": {},
   "outputs": [],
   "source": [
    "from langchain_community.chat_message_histories import ChatMessageHistory\n",
    "from langchain_core.chat_history import BaseChatMessageHistory\n",
    "from langchain_core.runnables.history import RunnableWithMessageHistory"
   ]
  },
  {
   "cell_type": "code",
   "execution_count": 6,
   "id": "098004a0-91bd-4140-85be-59f4c782f859",
   "metadata": {
    "jupyter": {
     "source_hidden": true
    }
   },
   "outputs": [],
   "source": [
    "store = {}\n",
    "\n",
    "def get_session_history(session_id: str) ->BaseChatMessageHistory:\n",
    "    if session_id not in store:\n",
    "        store[session_id] = ChatMessageHistory()\n",
    "    return store[session_id]\n",
    "\n",
    "with_message_history = RunnableWithMessageHistory(llm_obj,get_session_history)"
   ]
  },
  {
   "cell_type": "code",
   "execution_count": 8,
   "id": "3640aeb3-95e7-49cc-922d-3d66370f9bec",
   "metadata": {},
   "outputs": [],
   "source": [
    "from langchain_core.messages import HumanMessage"
   ]
  },
  {
   "cell_type": "code",
   "execution_count": 9,
   "id": "30e6f385-ad52-4969-9016-c9d8eab176d4",
   "metadata": {
    "collapsed": true,
    "jupyter": {
     "outputs_hidden": true
    }
   },
   "outputs": [
    {
     "data": {
      "text/plain": [
       "AIMessage(content='Hello, Tam! Nice to meet you. How can I help you today?', additional_kwargs={}, response_metadata={'token_usage': {'completion_tokens': 57, 'prompt_tokens': 445, 'total_tokens': 502, 'completion_time': 0.127528, 'prompt_time': 0.030475, 'queue_time': 0.095322, 'total_time': 0.158003}, 'model_name': 'groq/compound-mini', 'system_fingerprint': None, 'service_tier': 'on_demand', 'finish_reason': 'stop', 'logprobs': None}, id='run--7bf9f4af-174a-4cfc-86c5-b04b77021e96-0', usage_metadata={'input_tokens': 445, 'output_tokens': 57, 'total_tokens': 502})"
      ]
     },
     "execution_count": 9,
     "metadata": {},
     "output_type": "execute_result"
    }
   ],
   "source": [
    "my_config={\"configurable\":{\"session_id\":\"chat1\"}}\n",
    "with_message_history.invoke(HumanMessage(content=\"Hello my name is Tam\"),config=my_config)"
   ]
  },
  {
   "cell_type": "code",
   "execution_count": 13,
   "id": "4d797188-cc1a-4ccc-bb08-df135a118f99",
   "metadata": {},
   "outputs": [],
   "source": [
    "from langchain_core.prompts import ChatPromptTemplate"
   ]
  },
  {
   "cell_type": "code",
   "execution_count": null,
   "id": "c682f313-4d2d-4e04-9647-5a0233c41d17",
   "metadata": {},
   "outputs": [],
   "source": [
    "###"
   ]
  },
  {
   "cell_type": "code",
   "execution_count": 21,
   "id": "6bc33688-1c7d-49bd-a169-76652eea1fea",
   "metadata": {},
   "outputs": [],
   "source": [
    "from langchain_core.prompts import ChatPromptTemplate,MessagesPlaceholder\n",
    "prompt = ChatPromptTemplate.from_messages([\n",
    "    (\"system\",\"Your are helpful AI assistant,Answer all the question in {language}.\"),\n",
    "    MessagesPlaceholder(variable_name=\"question\")])\n",
    "chain = prompt|llm_obj"
   ]
  },
  {
   "cell_type": "code",
   "execution_count": 32,
   "id": "9f3acfb7-b92f-4daf-b266-b060a2af48b3",
   "metadata": {},
   "outputs": [
    {
     "name": "stdout",
     "output_type": "stream",
     "text": [
      "Bonjour Leo ! Enchanté de faire votre connaissance. Comment puis-je vous aider aujourd’hui ?\n"
     ]
    }
   ],
   "source": [
    "response = chain.invoke({'question':[HumanMessage(content=\"Hello my name is Leo\")],\"language\":\"French\"})\n",
    "print(response.content)"
   ]
  },
  {
   "cell_type": "code",
   "execution_count": 29,
   "id": "b50b3cc2-8105-488e-8dc1-ed6510bd1012",
   "metadata": {},
   "outputs": [
    {
     "data": {
      "text/plain": [
       "'System: Your are helpful AI assistant,Answer all the question in English.\\nHuman: Question:English'"
      ]
     },
     "execution_count": 29,
     "metadata": {},
     "output_type": "execute_result"
    }
   ],
   "source": [
    "formatted = chat_prompt.format(language=\"English\")\n",
    "formatted"
   ]
  },
  {
   "cell_type": "code",
   "execution_count": 30,
   "id": "b3b0934f-03e5-40a1-8d86-c65292e92aad",
   "metadata": {
    "jupyter": {
     "source_hidden": true
    }
   },
   "outputs": [],
   "source": [
    "from langchain_core.messages import HumanMessage, AIMessage\n",
    "\n",
    "formatted = chat_prompt.format_messages(\n",
    "    language=\"English\",\n",
    "    question=[\n",
    "        HumanMessage(content=\"What is LangChain?\"),\n",
    "        AIMessage(content=\"LangChain is a framework for building LLM apps.\"),\n",
    "        HumanMessage(content=\"Explain how ChatPromptTemplate works.\")\n",
    "    ]\n",
    ")\n"
   ]
  },
  {
   "cell_type": "code",
   "execution_count": 31,
   "id": "1c112f18-50b4-49ea-a949-f72d1c233298",
   "metadata": {
    "collapsed": true,
    "jupyter": {
     "outputs_hidden": true
    }
   },
   "outputs": [
    {
     "data": {
      "text/plain": [
       "[SystemMessage(content='Your are helpful AI assistant,Answer all the question in English.', additional_kwargs={}, response_metadata={}),\n",
       " HumanMessage(content='Question:English', additional_kwargs={}, response_metadata={})]"
      ]
     },
     "execution_count": 31,
     "metadata": {},
     "output_type": "execute_result"
    }
   ],
   "source": [
    "formatted"
   ]
  },
  {
   "cell_type": "code",
   "execution_count": 33,
   "id": "2099590d-162b-4a72-b5e7-18d12103790b",
   "metadata": {},
   "outputs": [
    {
     "data": {
      "text/plain": [
       "AIMessage(content='Bonjour Tom\\u202f! Enchanté de faire votre connaissance.', additional_kwargs={}, response_metadata={'token_usage': {'completion_tokens': 94, 'prompt_tokens': 480, 'total_tokens': 574, 'completion_time': 0.205417, 'prompt_time': 0.032685, 'queue_time': 0.097011, 'total_time': 0.238103}, 'model_name': 'groq/compound-mini', 'system_fingerprint': None, 'service_tier': 'on_demand', 'finish_reason': 'stop', 'logprobs': None}, id='run--4c7fcd68-73d8-48db-99d6-6d94adbd5488-0', usage_metadata={'input_tokens': 480, 'output_tokens': 94, 'total_tokens': 574})"
      ]
     },
     "execution_count": 33,
     "metadata": {},
     "output_type": "execute_result"
    }
   ],
   "source": [
    "from langchain_core.prompts import ChatPromptTemplate,MessagesPlaceholder\n",
    "prompt = ChatPromptTemplate.from_messages([\n",
    "    (\"system\",\"Your are helpful AI assistant,Answer all the question in {language}.\"),\n",
    "    MessagesPlaceholder(variable_name=\"question\")])\n",
    "chain = prompt|llm_obj\n",
    "\n",
    "chain.invoke({'question':[HumanMessage(content='Hello,My name is Tom')],\"language\":\"french\"})"
   ]
  },
  {
   "cell_type": "code",
   "execution_count": 34,
   "id": "7cd550f7-51da-4d1a-a7e8-fda286d77785",
   "metadata": {},
   "outputs": [
    {
     "name": "stdout",
     "output_type": "stream",
     "text": [
      "Bonjour Tom ! Enchanté de faire votre connaissance. Comment puis-je vous aider aujourd’hui ?\n"
     ]
    }
   ],
   "source": [
    "response = chain.invoke({'question':[HumanMessage(content='Hello,My name is Tom')],\"language\":\"french\"})\n",
    "print(response.content)telugu"
   ]
  },
  {
   "cell_type": "code",
   "execution_count": 35,
   "id": "8e7eb621-1e1b-48c6-ac71-6e9224159e54",
   "metadata": {},
   "outputs": [
    {
     "name": "stdout",
     "output_type": "stream",
     "text": [
      "नमस्ते टॉम! आपसे मिलकर बहुत खुशी हुई। आपका दिन शुभ हो!\n"
     ]
    }
   ],
   "source": [
    "response = chain.invoke({'question':[HumanMessage(content='Hello,My name is Tom')],\"language\":\"Hindi\"})\n",
    "print(response.content)"
   ]
  },
  {
   "cell_type": "code",
   "execution_count": 36,
   "id": "1c236603-f366-44e6-8000-aa1ab3d2c6f9",
   "metadata": {},
   "outputs": [
    {
     "name": "stdout",
     "output_type": "stream",
     "text": [
      "హలో టామ్! మీకు స్వాగతం. మీరు ఎలా ఉన్నారు?\n"
     ]
    }
   ],
   "source": [
    "response = chain.invoke({'question':[HumanMessage(content='Hello,My name is Tom')],\"language\":\"telugu\"})\n",
    "print(response.content)"
   ]
  },
  {
   "cell_type": "code",
   "execution_count": 37,
   "id": "b0a7ac9b-7cd1-4f9b-a6ef-810795d50bb0",
   "metadata": {},
   "outputs": [
    {
     "name": "stdout",
     "output_type": "stream",
     "text": [
      "வணக்கம் டோம்! நீங்கள் எப்படி இருக்கிறீர்கள்?\n"
     ]
    }
   ],
   "source": [
    "response = chain.invoke({'question':[HumanMessage(content='Hello,My name is Tom')],\"language\":\"tamil\"})\n",
    "print(response.content)"
   ]
  },
  {
   "cell_type": "code",
   "execution_count": 38,
   "id": "87ee4031-1445-4e25-b84f-9c1671b19b4c",
   "metadata": {},
   "outputs": [
    {
     "name": "stdout",
     "output_type": "stream",
     "text": [
      "ನಮಸ್ಕಾರ ಟಾಮ್! ನಿಮಗೆ ಹೇಗಿದೆ? ನಿಮಗೆ ಏನಾದರೂ ಸಹಾಯ ಬೇಕಿದ್ದರೆ ಹೇಳಿ.\n"
     ]
    }
   ],
   "source": [
    "response = chain.invoke({'question':[HumanMessage(content='Hello,My name is Tom')],\"language\":\"kannada\"})\n",
    "print(response.content)"
   ]
  },
  {
   "cell_type": "code",
   "execution_count": 39,
   "id": "7b17a9f5-e436-4051-846f-b116883ea8ac",
   "metadata": {},
   "outputs": [
    {
     "data": {
      "text/plain": [
       "AIMessage(content='ನಮಸ್ಕಾರ ಟಾಮ್! ನಿಮಗೆ ಹೇಗಿದೆ? ನಿಮಗೆ ಏನಾದರೂ ಸಹಾಯ ಬೇಕಿದ್ದರೆ ಹೇಳಿ.', additional_kwargs={}, response_metadata={'token_usage': {'completion_tokens': 306, 'prompt_tokens': 482, 'total_tokens': 788, 'completion_time': 0.733171, 'prompt_time': 0.034764, 'queue_time': 0.102737, 'total_time': 0.767935}, 'model_name': 'groq/compound-mini', 'system_fingerprint': None, 'service_tier': 'on_demand', 'finish_reason': 'stop', 'logprobs': None}, id='run--fb3c044f-6f12-4e1e-b58f-5ac97f39787b-0', usage_metadata={'input_tokens': 482, 'output_tokens': 306, 'total_tokens': 788})"
      ]
     },
     "execution_count": 39,
     "metadata": {},
     "output_type": "execute_result"
    }
   ],
   "source": [
    "response"
   ]
  },
  {
   "cell_type": "code",
   "execution_count": null,
   "id": "706e6d6d-dba5-4368-9c12-4b25a0131ae7",
   "metadata": {},
   "outputs": [],
   "source": []
  }
 ],
 "metadata": {
  "kernelspec": {
   "display_name": "Python [conda env:base] *",
   "language": "python",
   "name": "conda-base-py"
  },
  "language_info": {
   "codemirror_mode": {
    "name": "ipython",
    "version": 3
   },
   "file_extension": ".py",
   "mimetype": "text/x-python",
   "name": "python",
   "nbconvert_exporter": "python",
   "pygments_lexer": "ipython3",
   "version": "3.13.5"
  }
 },
 "nbformat": 4,
 "nbformat_minor": 5
}
